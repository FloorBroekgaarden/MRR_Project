{
 "cells": [
  {
   "cell_type": "code",
   "execution_count": 1,
   "id": "6180bdc3",
   "metadata": {},
   "outputs": [
    {
     "name": "stdout",
     "output_type": "stream",
     "text": [
      "obtain index of the SFRD models that we want to highlight\n"
     ]
    },
    {
     "data": {
      "text/html": [
       "<style>.container { width:100% !important; }</style>"
      ],
      "text/plain": [
       "<IPython.core.display.HTML object>"
      ]
     },
     "metadata": {},
     "output_type": "display_data"
    }
   ],
   "source": [
    "import sys\n",
    "sys.path.append('../Scripts')\n",
    "\n",
    "# # for reading datafiles \n",
    "import pandas as pd\n",
    "# import script that has many standard functions:\n",
    "from PostProcessingScripts import * \n",
    "\n",
    "from IPython.core.display import display, HTML\n",
    "display(HTML(\"<style>.container { width:100% !important; }</style>\"))\n"
   ]
  },
  {
   "cell_type": "code",
   "execution_count": 2,
   "id": "445b9726",
   "metadata": {},
   "outputs": [],
   "source": [
    "#Needed in general\n",
    "import numpy as np\n",
    "import matplotlib.pyplot as plt\n",
    "import sys\n",
    "\n",
    "#Quick fudge to make import from ../Scripts work\n",
    "sys.path.append('../../Scripts')\n",
    "\n",
    "#Custom imports\n",
    "import ClassCOMPAS     as CC ###\n",
    "import ClassFormationChannels as FC \n",
    "# import coencodeVarious        as CV\n"
   ]
  },
  {
   "cell_type": "code",
   "execution_count": 3,
   "id": "0dcbb4ae",
   "metadata": {},
   "outputs": [],
   "source": [
    "#all the counts strings and channels are sorted\n",
    "#this function prints the main channels and checks what \n",
    "#percentage of all DCO=type is accounted for\n",
    "def printTopXchannels(x):\n",
    "    maxx = x\n",
    "    i    = 0\n",
    "    totalPercentage = 0.\n",
    "    while i <= maxx:\n",
    "        print( 'Nr systems = %s'%(fc.sortedCounts[i]))\n",
    "        percentage = fc.sortedCounts[i] / float(np.sum(fc.sortedCounts))\n",
    "        print( 'pecentage of all %s' %(percentage))\n",
    "        totalPercentage += percentage\n",
    "        print(fc.sortedStrings[i])\n",
    "        i +=1\n",
    "        print( 'ssss ', len(fc.sortedCounts))\n",
    "    print('the above channels account for %s of all systems'  )\n",
    "    %(totalPercentage)\n",
    "    \n",
    "    \n",
    "    \n",
    "    "
   ]
  },
  {
   "cell_type": "code",
   "execution_count": 4,
   "id": "6f8059f0",
   "metadata": {},
   "outputs": [],
   "source": [
    "BPSmodelName ='A'\n",
    "DCOtype='BBH'\n",
    "\n",
    "path_ = '/Volumes/Andromeda2/DATA/AllDCO_bugfix/' + alphabetDirDict[BPSmodelName] +'/'\n",
    "path  = path_ + 'COMPASCompactOutput_'+ DCOtype +'_' + BPSmodelName + '.h5'\n",
    "\n",
    "#hdf5 name needs to be: COMPASOutput.h5\n",
    "\n",
    "#If you want to see what steps and class attributes are set -> verbose=True\n",
    "fc = FC.FormationChannels(path = path,verbose=True)"
   ]
  },
  {
   "cell_type": "code",
   "execution_count": 5,
   "id": "6b297ad0",
   "metadata": {},
   "outputs": [
    {
     "name": "stdout",
     "output_type": "stream",
     "text": [
      "self.booleanFilter \n",
      " Looking up the seeds/systems and creating mask for formation Channels. \n",
      "Doing the formation channels for 8371398 systems\n",
      "self.header \n",
      " Sorted which columns from formation channels we use\n",
      "Counting/sorting the unique Channels\n",
      "self.sortedChannels self.sortedCounts \n",
      " Combining the counts and channels in arrays\n",
      "120250.46419909708 sum sorted counts\n",
      "Done\n",
      "self.rankArray \n",
      " Creating column with rank of each system, patience required :)\n",
      "Done :D \n",
      "self.sortedSeeds \n",
      " Creating array per channel with all seeds of that channel\n",
      "self.sortedStrings \n",
      " Constructing human readable string for each of the unique Channels (Magic) \n",
      " :D :D \n",
      " finished in total we have 150 channels for 120250.46419909708 systems\n"
     ]
    }
   ],
   "source": [
    "#I dont want to take the merged within Hubble time into account in the formation\n",
    "#channels. meaning if we have two exactly the same channels but one mergers within \n",
    "#Hubble and one doesnt. Techinally this is two different channels.\n",
    "#By adding this column to delete columns we ignore this colum.\n",
    "#Same could be done for stellar types of donors etc\n",
    "# fc.deleteColumns = ['merged_in_Hubble_time'] #/floor\n",
    "\n",
    "# For DCO types I have inbuilt sorter to return seeds\n",
    "# set types argument and leave seeds argument empty (or None)\n",
    "#note that withinHubbleTime and optimistic argument are  only used\n",
    "# when types is given, not for seeds.\n",
    "#Additionally there are the following arguments with their Default:\n",
    "#   withinHubbleTime=True, optimistic=False\n",
    "#Not that optimistic True, or withinHubble = False does not give opposite but all systems\n",
    "fc.formationChannelsSeeds(seeds=None, types='BBH', withinHubbleTime=True, optimistic=True)\n"
   ]
  },
  {
   "cell_type": "code",
   "execution_count": 6,
   "id": "e82d6bd1",
   "metadata": {},
   "outputs": [
    {
     "name": "stdout",
     "output_type": "stream",
     "text": [
      "weighted samples :-D\n",
      "Remember to  self.setCOMPASDCOmask() and self.setCOMPASData()\n",
      "8371398\n",
      "8371398\n"
     ]
    }
   ],
   "source": [
    "\n",
    "\n",
    "Data            = CC.COMPASData(path=path, lazyData=True, Mlower=5., \\\n",
    "                 Mupper=150., binaryFraction=0.6)\n",
    "# print len(Data.mass1[...].squeeze())\n",
    "#     print(len(Data.mass1))\n",
    "Data.setCOMPASDCOmask(types='BBH',  withinHubbleTime=True, optimistic=False)\n",
    "Data.setCOMPASData()\n",
    "if len(Data.mass1[...].squeeze()):\n",
    "    print(len(Data.mass1))\n",
    "\n",
    "SeedsHubble    = Data.seeds[Data.Hubble==True]\n",
    "print(len(SeedsHubble))"
   ]
  },
  {
   "cell_type": "code",
   "execution_count": 15,
   "id": "1a9d5f19",
   "metadata": {
    "scrolled": false
   },
   "outputs": [
    {
     "name": "stdout",
     "output_type": "stream",
     "text": [
      " ->mt_primary_ep1 P=HG  S=MS  ->ccSN primary  ->mt_secondary_ep1 P=BH  S=CHeB  ->CEE ->ccSN secondary  -> last type Primary in Form=BH  -> last type Secondary in Form=CHeB  -> merged within Hubble=True -> binary disrupted=False\n",
      "I have now accounted for  %s percent 35.800815422427505\n",
      "[17.0417  16.8936  21.6115  ...  5.31236  4.05417  4.28648]\n",
      "3430176\n",
      " ->mt_primary_ep1 P=HG  S=MS  ->ccSN primary  ->mt_secondary_ep1 P=BH  S=HG  ->ccSN secondary  -> last type Primary in Form=BH  -> last type Secondary in Form=HG  -> merged within Hubble=True -> binary disrupted=False\n",
      "I have now accounted for  %s percent 55.81292700845311\n",
      "[14.5644  15.1474  18.7321  ...  7.45536  7.23138  7.15963]\n",
      "1851262\n",
      " ->mt_primary_ep1 P=CHeB  S=MS  ->ccSN primary  ->mt_secondary_ep1 P=BH  S=CHeB  ->CEE ->ccSN secondary  -> last type Primary in Form=BH  -> last type Secondary in Form=CHeB  -> merged within Hubble=True -> binary disrupted=False\n",
      "I have now accounted for  %s percent 70.35326212138796\n",
      "[15.8194  17.0057  15.5336  ...  7.74117  6.26602 10.075  ]\n",
      "1215153\n",
      " ->mt_primary_ep1 P=HG  S=MS  ->ccSN primary  ->mt_secondary_ep1 P=BH  S=HG  -> last type Primary in Form=BH  -> last type Secondary in Form=HG  -> merged within Hubble=True -> binary disrupted=False\n",
      "I have now accounted for  %s percent 77.87865703742025\n",
      "[28.7297 22.905  24.2573 ... 24.8861 21.6157 24.6913]\n",
      "806835\n",
      " ->mt_primary_ep1 P=CHeB  S=MS  ->ccSN primary  ->mt_secondary_ep1 P=BH  S=CHeB  ->CEE ->ccSN secondary  -> last type Primary in Form=BH  -> last type Secondary in Form=CHeB  -> merged within Hubble=True -> binary disrupted=False\n",
      "I have now accounted for  %s percent 81.17649233582092\n",
      "[12.7228 28.3606 13.014  ... 12.5944 12.8094 12.0332]\n",
      "116731\n",
      " ->mt_primary_ep1 P=HG  S=MS  ->mt_secondary_ep1 P=BH  S=CHeB  ->CEE -> last type Primary in Form=BH  -> last type Secondary in Form=CHeB  -> merged within Hubble=True -> binary disrupted=False\n",
      "I have now accounted for  %s percent 84.46890503759485\n",
      "[39.2059 38.7842 38.3562 ... 37.1489 37.0918 37.1667]\n",
      "242097\n",
      " ->mt_primary_ep1 P=HG  S=MS  ->mt_secondary_ep1 P=BH  S=HG  -> last type Primary in Form=BH  -> last type Secondary in Form=HG  -> merged within Hubble=True -> binary disrupted=False\n",
      "I have now accounted for  %s percent 86.53010397899646\n",
      "[31.8909 32.4789 32.7399 ... 31.842  31.5022 31.8142]\n",
      "141520\n",
      " ->mt_primary_ep1 P=HG  S=MS  ->mt_secondary_ep1 P=BH  S=CHeB  ->CEE ->ccSN secondary  -> last type Primary in Form=BH  -> last type Secondary in Form=CHeB  -> merged within Hubble=True -> binary disrupted=False\n",
      "I have now accounted for  %s percent 88.58929250658815\n",
      "[33.4712 39.2787 25.2811 ... 31.583  31.5443 31.5358]\n",
      "98505\n",
      " ->mt_primary_ep1 P=CHeB  S=CHeB  ->CEE ->ccSN primary  ->ccSN secondary  -> last type Primary in Form=CHeB  -> last type Secondary in Form=CHeB  -> merged within Hubble=True -> binary disrupted=False\n",
      "I have now accounted for  %s percent 90.43142107331693\n",
      "[8.5473  3.18369 8.20636 ... 5.35702 3.64466 2.79041]\n",
      "53958\n",
      " ->mt_primary_ep1 P=CHeB  S=CHeB  ->mt_secondary_ep1 P=HeMS  S=CHeB  ->CEE ->ccSN primary  ->ccSN secondary  -> last type Primary in Form=HeMS  -> last type Secondary in Form=CHeB  -> merged within Hubble=True -> binary disrupted=False\n",
      "I have now accounted for  %s percent 91.86920643214604\n",
      "[30.0585 15.3381 30.7088 ... 12.2324 10.9313 10.7634]\n",
      "64400\n"
     ]
    }
   ],
   "source": [
    "#The method :\n",
    "#Go index by index -> read string and group in cell below the indices\n",
    "#Note some channels do exactlu the #same but one is within Hubble other not, \n",
    "#this is classified as differencce\n",
    "for index in range(10):#[1] #[13,18,26,30,36,40,41,45,46,48]  #[9,10,14,31,34,44] #,18,26,30,36,40,41,45,46,48] #,10,14,31,34,44]\n",
    "    index = index-1+1\n",
    "    print( fc.sortedStrings[index])\n",
    "\n",
    "    print( 'I have now accounted for  %s percent', np.sum(fc.sortedCounts[0:index+1])*100 / float(np.sum(fc.sortedCounts)))\n",
    "\n",
    "\n",
    "    seedsInterest = []\n",
    "    seedsInterest.extend(fc.sortedSeeds[index])\n",
    "    #         Get metallicity systems this works because seeds in both\n",
    "    #         files are in the same order\n",
    "    mask = np.in1d(Data.seeds, np.array(seedsInterest))\n",
    "    mass1 = Data.mass1[mask]\n",
    "    mass2 = Data.mass2[mask]\n",
    "    print(mass1)\n",
    "    print(len(seedsInterest))\n",
    "\n",
    "# print(len(mass1))"
   ]
  },
  {
   "cell_type": "markdown",
   "id": "28a26611",
   "metadata": {},
   "source": [
    "## Model B "
   ]
  },
  {
   "cell_type": "code",
   "execution_count": 16,
   "id": "52af3b34",
   "metadata": {},
   "outputs": [
    {
     "name": "stdout",
     "output_type": "stream",
     "text": [
      "self.booleanFilter \n",
      " Looking up the seeds/systems and creating mask for formation Channels. \n",
      "Doing the formation channels for 8616008 systems\n",
      "self.header \n",
      " Sorted which columns from formation channels we use\n",
      "Counting/sorting the unique Channels\n",
      "self.sortedChannels self.sortedCounts \n",
      " Combining the counts and channels in arrays\n",
      "129333.9378383593 sum sorted counts\n",
      "Done\n",
      "self.rankArray \n",
      " Creating column with rank of each system, patience required :)\n",
      "Done :D \n",
      "self.sortedSeeds \n",
      " Creating array per channel with all seeds of that channel\n",
      "self.sortedStrings \n",
      " Constructing human readable string for each of the unique Channels (Magic) \n",
      " :D :D \n",
      " finished in total we have 147 channels for 129333.9378383593 systems\n",
      "weighted samples :-D\n",
      "Remember to  self.setCOMPASDCOmask() and self.setCOMPASData()\n",
      "8616008\n",
      "8616008\n",
      " ->mt_primary_ep1 P=HG  S=MS  ->ccSN primary  ->mt_secondary_ep1 P=BH  S=CHeB  ->CEE ->ccSN secondary  -> last type Primary in Form=BH  -> last type Secondary in Form=CHeB  -> merged within Hubble=True -> binary disrupted=False\n",
      "I have now accounted for  %s percent 49.36168506938121\n",
      "[16.4666  17.0417  18.732   ...  8.2942   4.95263  5.31236]\n",
      "5181686\n",
      " ->mt_primary_ep1 P=CHeB  S=MS  ->ccSN primary  ->mt_secondary_ep1 P=BH  S=CHeB  ->CEE ->ccSN secondary  -> last type Primary in Form=BH  -> last type Secondary in Form=CHeB  -> merged within Hubble=True -> binary disrupted=False\n",
      "I have now accounted for  %s percent 71.5956528597623\n",
      "[13.5003  11.8094  17.4702  ...  9.78763  2.79795 11.9848 ]\n",
      "2007299\n",
      " ->mt_primary_ep1 P=MS  S=MS  ->mt_primary_ep2 P=HG  S=MS  ->ccSN primary  ->mt_secondary_ep1 P=BH  S=HG  ->ccSN secondary  -> last type Primary in Form=BH  -> last type Secondary in Form=HG  -> merged within Hubble=True -> binary disrupted=False\n",
      "I have now accounted for  %s percent 76.08887837517732\n",
      "[22.5077  19.9356  22.4711  ... 11.0867   9.47168 10.4985 ]\n",
      "145512\n",
      " ->mt_primary_ep1 P=HG  S=MS  ->mt_secondary_ep1 P=BH  S=CHeB  ->CEE -> last type Primary in Form=BH  -> last type Secondary in Form=CHeB  -> merged within Hubble=True -> binary disrupted=False\n",
      "I have now accounted for  %s percent 80.34764135447755\n",
      "[39.2787 38.7589 39.196  ... 37.1205 36.2858 37.1754]\n",
      "383051\n",
      " ->mt_primary_ep1 P=HG  S=MS  ->ccSN primary  ->mt_secondary_ep1 P=BH  S=HG  ->ccSN secondary  -> last type Primary in Form=BH  -> last type Secondary in Form=HG  -> merged within Hubble=True -> binary disrupted=False\n",
      "I have now accounted for  %s percent 84.20474582962643\n",
      "[ 7.85455  8.80122 11.656   ...  7.44269  7.43388  7.45725]\n",
      "98149\n",
      " ->mt_primary_ep1 P=HG  S=MS  ->mt_secondary_ep1 P=BH  S=CHeB  ->CEE ->ccSN secondary  -> last type Primary in Form=BH  -> last type Secondary in Form=CHeB  -> merged within Hubble=True -> binary disrupted=False\n",
      "I have now accounted for  %s percent 86.45053328794259\n",
      "[33.4712 35.0979 25.2811 ... 31.6166 31.7197 31.6268]\n",
      "122913\n",
      " ->mt_primary_ep1 P=CHeB  S=CHeB  ->mt_secondary_ep1 P=HeMS  S=CHeB  ->CEE ->ccSN primary  ->ccSN secondary  -> last type Primary in Form=HeMS  -> last type Secondary in Form=CHeB  -> merged within Hubble=True -> binary disrupted=False\n",
      "I have now accounted for  %s percent 88.6951387306907\n",
      "[ 6.86769  9.92617 30.7093  ...  2.71364  2.69237  2.80826]\n",
      "89129\n",
      " ->mt_primary_ep1 P=CHeB  S=MS  ->ccSN primary  ->mt_secondary_ep1 P=BH  S=CHeB  ->CEE ->ccSN secondary  -> last type Primary in Form=BH  -> last type Secondary in Form=CHeB  -> merged within Hubble=True -> binary disrupted=False\n",
      "I have now accounted for  %s percent 90.65371335450602\n",
      "[28.1166 27.4467 26.7985 ... 12.0976 13.1357 13.1435]\n",
      "77245\n",
      " ->mt_primary_ep1 P=MS  S=MS  ->mt_primary_ep2 P=HG  S=MS  ->ccSN primary  ->mt_secondary_ep1 P=BH  S=HG  -> last type Primary in Form=BH  -> last type Secondary in Form=HG  -> merged within Hubble=True -> binary disrupted=False\n",
      "I have now accounted for  %s percent 92.3593998596528\n",
      "[25.381  24.7306 27.1354 ... 21.5093 20.5488 20.5788]\n",
      "73907\n",
      " ->ccSN primary  ->mt_secondary_ep1 P=BH  S=CHeB  ->CEE ->ccSN secondary  -> last type Primary in Form=BH  -> last type Secondary in Form=CHeB  -> merged within Hubble=True -> binary disrupted=False\n",
      "I have now accounted for  %s percent 93.56809276705401\n",
      "[ 7.03204 17.1521  17.3475  ...  8.60946 11.3913   9.61224]\n",
      "58464\n"
     ]
    }
   ],
   "source": [
    "BPSmodelName ='B'\n",
    "DCOtype='BBH'\n",
    "\n",
    "path_ = '/Volumes/Andromeda2/DATA/AllDCO_bugfix/' + alphabetDirDict[BPSmodelName] +'/'\n",
    "path  = path_ + 'COMPASCompactOutput_'+ DCOtype +'_' + BPSmodelName + '.h5'\n",
    "\n",
    "#hdf5 name needs to be: COMPASOutput.h5\n",
    "\n",
    "#If you want to see what steps and class attributes are set -> verbose=True\n",
    "fc = FC.FormationChannels(path = path,verbose=True)\n",
    "\n",
    "#I dont want to take the merged within Hubble time into account in the formation\n",
    "#channels. meaning if we have two exactly the same channels but one mergers within \n",
    "#Hubble and one doesnt. Techinally this is two different channels.\n",
    "#By adding this column to delete columns we ignore this colum.\n",
    "#Same could be done for stellar types of donors etc\n",
    "# fc.deleteColumns = ['merged_in_Hubble_time'] #/floor\n",
    "\n",
    "# For DCO types I have inbuilt sorter to return seeds\n",
    "# set types argument and leave seeds argument empty (or None)\n",
    "#note that withinHubbleTime and optimistic argument are  only used\n",
    "# when types is given, not for seeds.\n",
    "#Additionally there are the following arguments with their Default:\n",
    "#   withinHubbleTime=True, optimistic=False\n",
    "#Not that optimistic True, or withinHubble = False does not give opposite but all systems\n",
    "fc.formationChannelsSeeds(seeds=None, types='BBH', withinHubbleTime=True, optimistic=True)\n",
    "\n",
    "\n",
    "\n",
    "Data            = CC.COMPASData(path=path, lazyData=True, Mlower=5., \\\n",
    "                 Mupper=150., binaryFraction=0.6)\n",
    "# print len(Data.mass1[...].squeeze())\n",
    "#     print(len(Data.mass1))\n",
    "Data.setCOMPASDCOmask(types='BBH',  withinHubbleTime=True, optimistic=False)\n",
    "Data.setCOMPASData()\n",
    "if len(Data.mass1[...].squeeze()):\n",
    "    print(len(Data.mass1))\n",
    "\n",
    "SeedsHubble    = Data.seeds[Data.Hubble==True]\n",
    "print(len(SeedsHubble))\n",
    "\n",
    "\n",
    "#The method :\n",
    "#Go index by index -> read string and group in cell below the indices\n",
    "#Note some channels do exactlu the #same but one is within Hubble other not, \n",
    "#this is classified as differencce\n",
    "for index in range(10):#[1] #[13,18,26,30,36,40,41,45,46,48]  #[9,10,14,31,34,44] #,18,26,30,36,40,41,45,46,48] #,10,14,31,34,44]\n",
    "    index = index-1+1\n",
    "    print( fc.sortedStrings[index])\n",
    "\n",
    "    print( 'I have now accounted for  %s percent', np.sum(fc.sortedCounts[0:index+1])*100 / float(np.sum(fc.sortedCounts)))\n",
    "\n",
    "\n",
    "    seedsInterest = []\n",
    "    seedsInterest.extend(fc.sortedSeeds[index])\n",
    "    #         Get metallicity systems this works because seeds in both\n",
    "    #         files are in the same order\n",
    "    mask = np.in1d(Data.seeds, np.array(seedsInterest))\n",
    "    mass1 = Data.mass1[mask]\n",
    "    mass2 = Data.mass2[mask]\n",
    "    print(mass1)\n",
    "    print(len(seedsInterest))\n",
    "\n",
    "# print(len(mass1))"
   ]
  },
  {
   "cell_type": "code",
   "execution_count": 17,
   "id": "8c8aed19",
   "metadata": {},
   "outputs": [
    {
     "name": "stdout",
     "output_type": "stream",
     "text": [
      "nr of weird reversals = 4826\n",
      "nr of normal reversals = 1254877\n"
     ]
    }
   ],
   "source": [
    "\n",
    "\n",
    "# read in data \n",
    "fdata = h5.File(path, 'r')\n",
    "\n",
    "\n",
    "# # set optimistic true if that is the variation (H) \n",
    "# OPTIMISTIC=False\n",
    "# if (BPSmodelName=='F') | (BPSmodelName=='K') :\n",
    "#     OPTIMISTIC=True \n",
    "\n",
    "# obtain DCO masses\n",
    "M1 = fdata['doubleCompactObjects']['M1'][...].squeeze()\n",
    "M2 = fdata['doubleCompactObjects']['M2'][...].squeeze()\n",
    "MBH, MNS = obtainM1BHandM2BHassymetric(M1, M2)\n",
    "\n",
    "whichSN = fdata['supernovae']['whichStar'][...].squeeze() \n",
    "\n",
    "DCOseeds = fdata['doubleCompactObjects']['seed'][...].squeeze()\n",
    "seedsSN = fdata['supernovae']['randomSeed'][...].squeeze()\n",
    "\n",
    "u, indices = np.unique(seedsSN, return_index=True)\n",
    "whichSN = fdata['supernovae']['whichStar'][...].squeeze()[indices] # get whichStar for first SN \n",
    "\n",
    "mask_temp = ((whichSN==2) & (M1>M2) )\n",
    "mask_2 = ((whichSN==1) & (M1<M2))\n",
    "print('nr of weird reversals = %s'%np.sum(mask_temp))\n",
    "print('nr of normal reversals = %s'%np.sum(mask_2))\n"
   ]
  },
  {
   "cell_type": "code",
   "execution_count": 19,
   "id": "12c52529",
   "metadata": {},
   "outputs": [],
   "source": [
    "from formation_channels import * "
   ]
  },
  {
   "cell_type": "code",
   "execution_count": 20,
   "id": "4cc130fa",
   "metadata": {},
   "outputs": [],
   "source": [
    "maskMRR = ((whichSN==2) & (M1>M2) ) | ((whichSN==1) & (M1<M2) ) \n",
    "\n",
    "\n",
    "\n",
    "\n",
    "\n",
    "# get intrinsic weights\n",
    "fparam_intrinsic = 'weights_intrinsic'\n",
    "# get detected weights\n",
    "fparam_detected = 'weights_detected'\n",
    "\n",
    "\n",
    "####################################################\n",
    "######### ITERATE  OVER  MSSFR  MODELS #############\n",
    "####################################################\n",
    "\n",
    "fdata = h5.File(path)\n",
    "\n",
    "# DCOSeeds = fdata['doubleCompactObjects']['seed'][...].squeeze()\n",
    "seeds = fdata['doubleCompactObjects']['seed'][...].squeeze()\n",
    "channels = identify_formation_channels(seeds=seeds, file=fdata)\n",
    "# headerDict_intrinsic = { 5:'MRR Channel VI intrinsic (z=0) [Gpc^{-3} yr^{-1}]',  6:'MRR Channel VII intrinsic (z=0) [Gpc^{-3} yr^{-1}]', 7:'All intrinsic (z=0) [Gpc^{-3} yr^{-1}]', 8:'All MRR intrinsic (z=0) [Gpc^{-3} yr^{-1}]', 0:'MRR channel V intrinsic (z=0) [Gpc^{-3} yr^{-1}]',  1:'MRR channel I intrinsic (z=0) [Gpc^{-3} yr^{-1}]', 2:'MRR channel II intrinsic (z=0) [Gpc^{-3} yr^{-1}]',3:'MRR channel III intrinsic (z=0) [Gpc^{-3} yr^{-1}]', 4:'MRR channel IV intrinsic (z=0) [Gpc^{-3} yr^{-1}]'}\n",
    "# headerDict_observed  = { 5:'MRR channel VI observed (design LVK) [yr^{-1}]',     6:'MRR channel VII observed (design LVK) [yr^{-1}]',    7:'All observed (design LVK) [yr^{-1}]',    8:'All MRR observed (design LVK) [yr^{-1}]', 0:'MRR channel V observed (design LVK) [yr^{-1}]', 1:'MRR channel I observed (design LVK) [yr^{-1}]', 2:'MRR channel II observed (design LVK) [yr^{-1}]', 3:'MRR channel III observed (design LVK) [yr^{-1}]', 4:'MRR channel IV observed (design LVK) [yr^{-1}]'}    \n",
    "# enumerate_list = range(9)\n",
    "\n",
    "\n"
   ]
  },
  {
   "cell_type": "code",
   "execution_count": 37,
   "id": "06413d66",
   "metadata": {},
   "outputs": [
    {
     "name": "stdout",
     "output_type": "stream",
     "text": [
      "[   5001039    5003491    5004064 ... 3960011771 3960020783 4065018882]\n",
      "0.6707928963246164\n"
     ]
    }
   ],
   "source": [
    "Channel = 0  \n",
    "mask_C  = (channels==Channel) & (maskMRR==1)\n",
    "\n",
    "\n",
    "intrinsicRates = np.zeros(len(MSSFRnameslist))\n",
    "detectedRates = np.zeros(len(MSSFRnameslist))       \n",
    "\n",
    "\n",
    "for ind_mssfr, mssfr in enumerate([MSSFRnameslist[0]]):\n",
    "    weightheader = 'w_' + mssfr\n",
    "    w_int = fdata[fparam_intrinsic][weightheader][...].squeeze()\n",
    "    w_det = fdata[fparam_detected][weightheader][...].squeeze()\n",
    "\n",
    "\n",
    "\n",
    "\n",
    "print(Data.seeds[mask_C])\n",
    "norm_det = np.sum(w_det[maskMRR])\n",
    "AA = np.sum(w_det[mask_C])/norm_det\n",
    "print(AA)"
   ]
  },
  {
   "cell_type": "code",
   "execution_count": 41,
   "id": "d4582029",
   "metadata": {},
   "outputs": [
    {
     "name": "stdout",
     "output_type": "stream",
     "text": [
      " ---- now at index ----  0\n",
      " ---- now at index ----  1\n",
      " ---- now at index ----  2\n",
      "[22.5077 19.9356 22.4711 ... 11.0437 11.4199 11.4354]\n",
      "145512\n",
      " ->mt_primary_ep1 P=MS  S=MS  ->mt_primary_ep2 P=HG  S=MS  ->ccSN primary  ->mt_secondary_ep1 P=BH  S=HG  ->ccSN secondary  -> last type Primary in Form=BH  -> last type Secondary in Form=HG  -> merged within Hubble=True -> binary disrupted=False\n",
      "I have now accounted for  %s percent 76.08887837517732\n",
      "this channel accounts for a fraction of   0.6964447676581794  of the other MRR BBHs channel\n",
      "\n",
      "\n",
      " ---- now at index ----  3\n",
      " ---- now at index ----  4\n",
      " ---- now at index ----  5\n",
      " ---- now at index ----  6\n",
      "[ 6.86769  9.92617 12.3416  ...  2.71364  2.69237  2.80826]\n",
      "89129\n",
      " ->mt_primary_ep1 P=CHeB  S=CHeB  ->mt_secondary_ep1 P=HeMS  S=CHeB  ->CEE ->ccSN primary  ->ccSN secondary  -> last type Primary in Form=HeMS  -> last type Secondary in Form=CHeB  -> merged within Hubble=True -> binary disrupted=False\n",
      "I have now accounted for  %s percent 88.6951387306907\n",
      "this channel accounts for a fraction of   0.007937154388339557  of the other MRR BBHs channel\n",
      "\n",
      "\n",
      " ---- now at index ----  7\n",
      " ---- now at index ----  8\n",
      "[25.381  24.7306 27.1354 ... 21.5093 20.5488 20.5788]\n",
      "73907\n",
      " ->mt_primary_ep1 P=MS  S=MS  ->mt_primary_ep2 P=HG  S=MS  ->ccSN primary  ->mt_secondary_ep1 P=BH  S=HG  -> last type Primary in Form=BH  -> last type Secondary in Form=HG  -> merged within Hubble=True -> binary disrupted=False\n",
      "I have now accounted for  %s percent 92.3593998596528\n",
      "this channel accounts for a fraction of   0.27150659802646687  of the other MRR BBHs channel\n",
      "\n",
      "\n",
      " ---- now at index ----  9\n",
      "[21.0469 18.5353 21.6129 17.0496 21.2021 16.9287 13.4007 13.9283 18.88\n",
      " 14.2136 19.3634 19.4933 21.1965 16.632  19.3057 19.8457 19.0645 18.2702\n",
      " 21.208  20.4044 20.174  14.943  13.5454 15.16   17.526  17.8347 18.3802\n",
      " 14.8288 13.6165 10.9675 10.2939]\n",
      "58464\n",
      " ->ccSN primary  ->mt_secondary_ep1 P=BH  S=CHeB  ->CEE ->ccSN secondary  -> last type Primary in Form=BH  -> last type Secondary in Form=CHeB  -> merged within Hubble=True -> binary disrupted=False\n",
      "I have now accounted for  %s percent 93.56809276705401\n",
      "this channel accounts for a fraction of   9.696191545314609e-05  of the other MRR BBHs channel\n",
      "\n",
      "\n"
     ]
    }
   ],
   "source": [
    "#The method :\n",
    "#Go index by index -> read string and group in cell below the indices\n",
    "#Note some channels do exactlu the #same but one is within Hubble other not, \n",
    "#this is classified as differencce\n",
    "for index in range(10):#[1] #[13,18,26,30,36,40,41,45,46,48]  #[9,10,14,31,34,44] #,18,26,30,36,40,41,45,46,48] #,10,14,31,34,44]\n",
    "    print(' ---- now at index ---- ', index)\n",
    "    index = index-1+1\n",
    "\n",
    "    seedsInterest = []\n",
    "    seedsInterest.extend(fc.sortedSeeds[index])\n",
    "    #         Get metallicity systems this works because seeds in both\n",
    "    #         files are in the same order\n",
    "    mask = np.in1d(Data.seeds[mask_C], np.array(seedsInterest))\n",
    "    mass1 = Data.mass1[mask_C][mask]\n",
    "    mass2 = Data.mass2[mask_C][mask]\n",
    "\n",
    "    \n",
    "    if len(mass1>1):\n",
    "        print(mass1)\n",
    "          \n",
    "        print(len(seedsInterest))\n",
    "\n",
    "        print( fc.sortedStrings[index])\n",
    "\n",
    "        print( 'I have now accounted for  %s percent', np.sum(fc.sortedCounts[0:index+1])*100 / float(np.sum(fc.sortedCounts)))\n",
    "        print('this channel accounts for a fraction of  ', np.sum(w_det[mask_C][mask])/np.sum(w_det[mask_C]), ' of the other MRR BBHs channel' )\n",
    "        print()\n",
    "        print()\n"
   ]
  },
  {
   "cell_type": "code",
   "execution_count": 44,
   "id": "f3a201d8",
   "metadata": {},
   "outputs": [
    {
     "name": "stdout",
     "output_type": "stream",
     "text": [
      "<KeysViewHDF5 ['EccentricityPostCEE', 'EccentricityPreCEE', 'MSAccretorDuringCEEFlag', 'SemiMajorAxisPostCEE', 'SemiMajorAxisPreCEE', 'Teff1', 'Teff2', 'alphaCE', 'bEFixed1', 'bEFixed2', 'bEKruckow1', 'bEKruckow2', 'bELoveridge1', 'bELoveridge2', 'bELoveridgeWinds1', 'bELoveridgeWinds2', 'bENanjing1', 'bENanjing2', 'bindingEnergy1', 'bindingEnergy2', 'counterCEE', 'doubleCoreCommonEnvelopeFlag', 'finalStellarType1', 'finalStellarType2', 'flagRLOF1', 'flagRLOF2', 'immediateRLOFAfterCEE', 'lambda1', 'lambda2', 'lambdaFixed1', 'lambdaFixed2', 'lambdaKruckow1', 'lambdaKruckow2', 'lambdaLoveridge1', 'lambdaLoveridge2', 'lambdaLoveridgeWinds1', 'lambdaLoveridgeWinds2', 'lambdaNanjing1', 'lambdaNanjing2', 'luminosity1', 'luminosity2', 'm_EccentricityRLOF', 'mass1', 'mass1ZAMS', 'mass2', 'mass2ZAMS', 'massCore1', 'massCore2', 'massEnvelope1', 'massEnvelope2', 'massTransferTrackerHistory', 'optimisticCommonEnvelopeFlag', 'radius1', 'radius1AfterStripping', 'radius2', 'radius2AfterStripping', 'randomSeed', 'rocheLobe1to2PostCEE', 'rocheLobe1to2PreCEE', 'rocheLobe2to1PostCEE', 'rocheLobe2to1PreCEE', 'simultaneousRLOFleadingToCEEFlag', 'stellarMerger', 'stellarType1', 'stellarType2', 'tauCirc', 'tauDynamical1', 'tauDynamical2', 'tauNuclear1', 'tauNuclear2', 'tauRexp1', 'tauRexp2', 'tauSync', 'tauThermal1', 'tauThermal2', 'time', 'zetaRLOFanalytic', 'zetaStarCompare']>\n"
     ]
    }
   ],
   "source": [
    "print( fdata['commonEnvelopes']['randomSeed'].keys())"
   ]
  },
  {
   "cell_type": "code",
   "execution_count": null,
   "id": "e86cbcd2",
   "metadata": {},
   "outputs": [],
   "source": []
  }
 ],
 "metadata": {
  "kernelspec": {
   "display_name": "Python 3",
   "language": "python",
   "name": "python3"
  },
  "language_info": {
   "codemirror_mode": {
    "name": "ipython",
    "version": 3
   },
   "file_extension": ".py",
   "mimetype": "text/x-python",
   "name": "python",
   "nbconvert_exporter": "python",
   "pygments_lexer": "ipython3",
   "version": "3.7.4"
  }
 },
 "nbformat": 4,
 "nbformat_minor": 5
}
