{
 "cells": [
  {
   "cell_type": "code",
   "execution_count": 1,
   "id": "9357accd",
   "metadata": {},
   "outputs": [
    {
     "data": {
      "text/html": [
       "<style>.container { width:100% !important; }</style>"
      ],
      "text/plain": [
       "<IPython.core.display.HTML object>"
      ]
     },
     "metadata": {},
     "output_type": "display_data"
    }
   ],
   "source": [
    "#Needed in general\n",
    "\n",
    "\n",
    "import numpy as np\n",
    "import matplotlib.pyplot as plt\n",
    "import sys\n",
    "import h5py as h5\n",
    "import gc\n",
    "\n",
    "#Quick fudge to make import from ../Scripts work\n",
    "sys.path.append('../Scripts')\n",
    "\n",
    "\n",
    "# import script that has formation channel classification functions:\n",
    "from PostProcessingScripts import * \n",
    "\n",
    "\n",
    "from astropy import units as u\n",
    "from astropy import constants as const\n",
    "\n",
    "from IPython.core.display import display, HTML\n",
    "display(HTML(\"<style>.container { width:100% !important; }</style>\"))\n",
    "\n",
    "\n",
    "import astropy\n",
    "import seaborn as sns\n",
    "# from seaborn_utility import cmap_from_colour"
   ]
  },
  {
   "cell_type": "code",
   "execution_count": null,
   "id": "140a7f56",
   "metadata": {},
   "outputs": [],
   "source": []
  },
  {
   "cell_type": "code",
   "execution_count": null,
   "id": "cf023b77",
   "metadata": {},
   "outputs": [],
   "source": []
  },
  {
   "cell_type": "code",
   "execution_count": null,
   "id": "f8c2be86",
   "metadata": {},
   "outputs": [
    {
     "name": "stdout",
     "output_type": "stream",
     "text": [
      "<KeysViewHDF5 ['RLOF', 'commonEnvelopes', 'doubleCompactObjects', 'formationChannels', 'supernovae', 'systems', 'weights_detected', 'weights_detectedPerRedshift', 'weights_intrinsic', 'weights_intrinsicPerRedshift']>\n",
      "this might take a little while, particularly if you are using the BBH\n",
      "8371398 8371398 8371398\n",
      "0  still had negative spin; we set these to 0 \n"
     ]
    }
   ],
   "source": [
    "# to obtain properties of ALL binaries simulated, do this:\n",
    "\n",
    "DCOtype = 'BBH'   # You can change this line to 'BBH', 'BHNS' 'BNS', or 'ALL' (All DCOs)  # change this line! \n",
    "\n",
    "\n",
    "\n",
    "# add path to where the COMPASOutput.h5 file is stored. \n",
    "# For you the part '/Volumes/Andromeda/DATA/AllDCO_bugfix/fiducial/' is probably different\n",
    "path = '/Volumes/Andromeda/DATA/AllDCO_bugfix/fiducial/COMPASCompactOutput_'+ DCOtype +'_A.h5' # change this line! \n",
    "\n",
    "\n",
    "\n",
    "fdata = h5.File(path)\n",
    "# shows the different files within the hdf5 folder \n",
    "print(fdata.keys())\n",
    "\n",
    "\n",
    "\n",
    "print('this might take a little while, particularly if you are using the BBH')\n",
    "\n",
    "# # This code below gets the COMPAS data and only the systems that are DCOs \n",
    "# Data            = COMPASData(path=path, lazyData=True, Mlower=5., \\\n",
    "#                  Mupper=150., binaryFraction=1)\n",
    "# Data.setCOMPASDCOmask(types=DCOtype,  withinHubbleTime=True, optimistic=False)\n",
    "# Data.setCOMPASData()\n",
    "# SeedsHubble    = Data.seeds[Data.Hubble==True]\n",
    "\n",
    "\n",
    "\n",
    "spin = COspin(data_path=path, state='he_depletion')  # set class \n",
    "spin.setCOMPASData() # reads in the COMPAS DCO parameters \n",
    "spinM1, spinM2  = spin.BaveraSpin()\n",
    "\n",
    "fdata.close()\n",
    "\n",
    "\n",
    "\n",
    "\n",
    "\n",
    "\n",
    "f, ax= plt.subplots(ncols=1,nrows=1, figsize=(16,12))\n",
    "\n",
    "plt.scatter(spin.mWR[0:], spin.PeriodPreSN2[0:],  c=spinM2[0:])\n",
    "\n",
    "\n",
    "\n",
    "\n",
    "ylabel=r'Period [day]'\n",
    "xlabel=r'$m_{\\rm{WR}} \\, [M_{\\odot}]$ '\n",
    "\n",
    "plt.xscale('log')\n",
    "plt.yscale('log')\n",
    "plt.xlim(1, 70)\n",
    "plt.ylim(0.05, 10)\n",
    "\n",
    "cbar = plt.colorbar()\n",
    "cbar.set_label('spin', fontsize=fs)\n",
    "cbar.ax.tick_params(labelsize='large')\n",
    "\n",
    "\n",
    "layoutAxes(ax=ax, nameX=xlabel, nameY=ylabel,setMinor=False)\n",
    "f.tight_layout() \n",
    "plt.savefig('./BHBH_COMPAS_model_A.png', dpi=600)#,\\\n",
    "plt.show()"
   ]
  },
  {
   "cell_type": "code",
   "execution_count": null,
   "id": "ba4c870d",
   "metadata": {},
   "outputs": [],
   "source": [
    "fdata.close()"
   ]
  },
  {
   "cell_type": "code",
   "execution_count": null,
   "id": "9b96d870",
   "metadata": {},
   "outputs": [],
   "source": []
  }
 ],
 "metadata": {
  "kernelspec": {
   "display_name": "Python 3",
   "language": "python",
   "name": "python3"
  },
  "language_info": {
   "codemirror_mode": {
    "name": "ipython",
    "version": 3
   },
   "file_extension": ".py",
   "mimetype": "text/x-python",
   "name": "python",
   "nbconvert_exporter": "python",
   "pygments_lexer": "ipython3",
   "version": "3.7.4"
  }
 },
 "nbformat": 4,
 "nbformat_minor": 5
}
