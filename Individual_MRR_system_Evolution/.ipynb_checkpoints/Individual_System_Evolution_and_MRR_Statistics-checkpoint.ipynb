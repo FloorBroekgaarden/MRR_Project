{
 "cells": [
  {
   "cell_type": "code",
   "execution_count": 1,
   "id": "da42c47e",
   "metadata": {},
   "outputs": [
    {
     "data": {
      "text/html": [
       "<style>.container { width:100% !important; }</style>"
      ],
      "text/plain": [
       "<IPython.core.display.HTML object>"
      ]
     },
     "metadata": {},
     "output_type": "display_data"
    }
   ],
   "source": [
    "#Needed in general\n",
    "\n",
    "\n",
    "import numpy as np\n",
    "import matplotlib.pyplot as plt\n",
    "import sys\n",
    "import h5py as h5\n",
    "import gc\n",
    "\n",
    "#Quick fudge to make import from ../Scripts work\n",
    "sys.path.append('../Scripts')\n",
    "\n",
    "\n",
    "# import script that has formation channel classification functions:\n",
    "from PostProcessingScripts import * \n",
    "\n",
    "from astropy import units as u\n",
    "from astropy import constants as const\n",
    "\n",
    "from IPython.core.display import display, HTML\n",
    "display(HTML(\"<style>.container { width:100% !important; }</style>\"))\n",
    "# print(fs)\n",
    "\n",
    "import astropy\n",
    "import seaborn as sns\n",
    "\n",
    "\n",
    "from astropy import units as u\n",
    "from astropy import constants as c"
   ]
  },
  {
   "cell_type": "code",
   "execution_count": 8,
   "id": "2b1e39b6",
   "metadata": {},
   "outputs": [
    {
     "name": "stdout",
     "output_type": "stream",
     "text": [
      " -----   Now at model  A  -------\n",
      "[0.0001  0.00011 0.00012 0.00014 0.00016 0.00017 0.00019 0.00022 0.00024\n",
      " 0.00027 0.0003  0.00034 0.00037 0.00042 0.00047 0.00052 0.00058 0.00065\n",
      " 0.00073 0.00081 0.0009  0.00101 0.00113 0.00126 0.0014  0.00157 0.00175\n",
      " 0.00195 0.00218 0.00243 0.00272 0.00303 0.00339 0.00378 0.00422 0.00471\n",
      " 0.00526 0.00587 0.00655 0.00732 0.00817 0.00912 0.01018 0.01137 0.01269\n",
      " 0.01416 0.01581 0.01765 0.01971 0.0244  0.02705]\n",
      "Z = Zsun MRR seeds are: [4505003997 4505024245 4540016235 4525005018 4525060549 4520056107\n",
      " 4535069217 4555009662 4580000775 4580007538 4580014199 4580026096\n",
      " 4580026206 4580028546 4580029535 4595005996 4595017897 4565014413\n",
      " 4565027532 4590005294 4590011833 4590027903 4590029561 4550029250\n",
      " 4550029758 4550029943 4575000992 4575003137 4575014171 4575025123\n",
      " 4575025359 4575025394 4560003020 4560005286 4560020027 4560022143\n",
      " 4560024346 4560024766 4570022527 4585029566 4585030194]\n",
      "Z = Zsun/10 MRR seeds are: [2105000139 2105000482 2105001147 ... 2185069768 2185069769 2185069771]\n"
     ]
    }
   ],
   "source": [
    "DCOtype='BBH'\n",
    "\n",
    "# for BPSmodelName in ['A','B', 'C', 'D', 'E', 'F', 'G', 'H', 'I', 'J', 'K', 'L', 'M', 'N',  'P', 'Q', 'R', 'S', 'T']:\n",
    "BPSmodelName = 'A'\n",
    "\n",
    "print(' -----   Now at model ', BPSmodelName, ' -------')\n",
    "\n",
    "#         mssfr = '112' # mssfr that matches LIGO observed rates.\n",
    "# path for files \n",
    "path_ = '/Volumes/Andromeda/DATA/AllDCO_bugfix/' + alphabetDirDict[BPSmodelName] +'/'\n",
    "path  = path_ + 'COMPASCompactOutput_'+ DCOtype +'_' + BPSmodelName + '.h5'\n",
    "\n",
    "# read in data \n",
    "fdata = h5.File(path)\n",
    "\n",
    "\n",
    "M1BH = fdata['doubleCompactObjects']['M1'][...].squeeze()\n",
    "M2BH = fdata['doubleCompactObjects']['M2'][...].squeeze()\n",
    "MRR_mask = (M2BH>M1BH) # THe BH formed from the M2@ZAMS is more massive at DCO merger than the BH formed at M1@ZAMS\n",
    "\n",
    "DCOseeds = fdata['doubleCompactObjects']['seed'][...].squeeze()\n",
    "Metallicity = fdata['doubleCompactObjects']['Metallicity1'][...].squeeze()\n",
    "\n",
    "\n",
    "print(np.unique(Metallicity))\n",
    "# seeds solar \n",
    "mask_MRR_solar = (MRR_mask==1) & (Metallicity==0.01416)\n",
    "mask_MRR_0_1solar = (MRR_mask==1) & (Metallicity==0.00101)\n",
    "\n",
    "\n",
    "\n",
    "print('Z = Zsun MRR seeds are:', DCOseeds[mask_MRR_solar])\n",
    "print('Z = Zsun/10 MRR seeds are:', DCOseeds[mask_MRR_0_1solar])\n",
    "\n",
    "\n",
    "\n"
   ]
  },
  {
   "cell_type": "code",
   "execution_count": null,
   "id": "8f328c28",
   "metadata": {},
   "outputs": [],
   "source": []
  }
 ],
 "metadata": {
  "kernelspec": {
   "display_name": "Python 3",
   "language": "python",
   "name": "python3"
  },
  "language_info": {
   "codemirror_mode": {
    "name": "ipython",
    "version": 3
   },
   "file_extension": ".py",
   "mimetype": "text/x-python",
   "name": "python",
   "nbconvert_exporter": "python",
   "pygments_lexer": "ipython3",
   "version": "3.7.4"
  }
 },
 "nbformat": 4,
 "nbformat_minor": 5
}
