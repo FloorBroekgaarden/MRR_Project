{
 "cells": [
  {
   "cell_type": "code",
   "execution_count": 1,
   "id": "67ede89a",
   "metadata": {},
   "outputs": [
    {
     "data": {
      "text/html": [
       "<style>.container { width:100% !important; }</style>"
      ],
      "text/plain": [
       "<IPython.core.display.HTML object>"
      ]
     },
     "metadata": {},
     "output_type": "display_data"
    }
   ],
   "source": [
    "\n",
    "import sys\n",
    "sys.path.append('../Scripts')\n",
    "from PostProcessingScripts import * \n",
    "\n",
    "\n",
    "from IPython.core.display import display, HTML\n",
    "display(HTML(\"<style>.container { width:100% !important; }</style>\"))\n",
    "import pandas as pd\n",
    "\n",
    "def adjust_lightness(color, amount=0.5):\n",
    "    import matplotlib.colors as mc\n",
    "    import colorsys\n",
    "    try:\n",
    "        c = mc.cnames[color]\n",
    "    except:\n",
    "        c = color\n",
    "    c = colorsys.rgb_to_hls(*mc.to_rgb(c))\n",
    "    return colorsys.hls_to_rgb(c[0], max(0, min(1, amount * c[1])), c[2])\n",
    "colors = ['#1f77b4', '#ff7f0e']\n",
    "colors_lighter = [adjust_lightness(color=colors[0], amount=2.2),adjust_lightness(color=colors[1], amount=1.7)]\n",
    "\n",
    "\n",
    "import random\n"
   ]
  },
  {
   "cell_type": "code",
   "execution_count": 2,
   "id": "18fd31e0",
   "metadata": {},
   "outputs": [],
   "source": [
    "markershapes = [\"*\", \"o\", \"v\",  \"p\", \"H\", \"^\", \">\", 'X', \"+\",\"<\", 'x', \"3\",\"d\",\"1\", \"|\", \"D\", \"P\", \"X\", \"+\", \"d\"]\n",
    "dictMarkerShape = {BPSnameslist[i]: markershapes[i] for i in range(len(BPSnameslist))}\n",
    "\n",
    "\n",
    "\n",
    "\n",
    "name = '/Users/floorbroekgaarden/Downloads/contour_data/GW200322G_log_total_mass_source_log_mass_ratio_contour_data.pkl'"
   ]
  },
  {
   "cell_type": "code",
   "execution_count": null,
   "id": "0db8a4a5",
   "metadata": {},
   "outputs": [],
   "source": [
    "'''\n",
    "Load python objects from file\n",
    "'''\n",
    "import pickle as pkl\n",
    "# import file\n",
    "# # import other modules needed to work with the figure, such as np, plt etc.\n",
    "\n",
    "\n",
    "ax = pkl.load(file())\n",
    "plt.show()"
   ]
  },
  {
   "cell_type": "code",
   "execution_count": 3,
   "id": "cd67e2a3",
   "metadata": {},
   "outputs": [
    {
     "name": "stdout",
     "output_type": "stream",
     "text": [
      "{'xx': array([[0.85937423, 0.86389271, 0.86841119, ..., 3.10505977, 3.10957825,\n",
      "        3.11409673],\n",
      "       [0.85937423, 0.86389271, 0.86841119, ..., 3.10505977, 3.10957825,\n",
      "        3.11409673],\n",
      "       [0.85937423, 0.86389271, 0.86841119, ..., 3.10505977, 3.10957825,\n",
      "        3.11409673],\n",
      "       ...,\n",
      "       [0.85937423, 0.86389271, 0.86841119, ..., 3.10505977, 3.10957825,\n",
      "        3.11409673],\n",
      "       [0.85937423, 0.86389271, 0.86841119, ..., 3.10505977, 3.10957825,\n",
      "        3.11409673],\n",
      "       [0.85937423, 0.86389271, 0.86841119, ..., 3.10505977, 3.10957825,\n",
      "        3.11409673]]), 'yy': array([[-2.12969687, -2.12969687, -2.12969687, ..., -2.12969687,\n",
      "        -2.12969687, -2.12969687],\n",
      "       [-2.1244737 , -2.1244737 , -2.1244737 , ..., -2.1244737 ,\n",
      "        -2.1244737 , -2.1244737 ],\n",
      "       [-2.11925052, -2.11925052, -2.11925052, ..., -2.11925052,\n",
      "        -2.11925052, -2.11925052],\n",
      "       ...,\n",
      "       [ 0.46622145,  0.46622145,  0.46622145, ...,  0.46622145,\n",
      "         0.46622145,  0.46622145],\n",
      "       [ 0.47144462,  0.47144462,  0.47144462, ...,  0.47144462,\n",
      "         0.47144462,  0.47144462],\n",
      "       [ 0.4766678 ,  0.4766678 ,  0.4766678 , ...,  0.4766678 ,\n",
      "         0.4766678 ,  0.4766678 ]]), 'z': array([[0., 0., 0., ..., 0., 0., 0.],\n",
      "       [0., 0., 0., ..., 0., 0., 0.],\n",
      "       [0., 0., 0., ..., 0., 0., 0.],\n",
      "       ...,\n",
      "       [0., 0., 0., ..., 0., 0., 0.],\n",
      "       [0., 0., 0., ..., 0., 0., 0.],\n",
      "       [0., 0., 0., ..., 0., 0., 0.]]), 'kde': array([1.9526039 , 1.54270122, 1.48697567, 1.41387219, 1.40236898,\n",
      "       1.40186974, 1.39731882, 1.39515182, 1.38207136, 1.35034107,\n",
      "       1.27574193, 1.23052434, 1.215074  , 1.19480374, 1.14699827,\n",
      "       1.11220398, 1.04275317, 1.02561437, 1.01772283, 1.00962772,\n",
      "       0.92815905, 0.8403742 , 0.67976188, 0.66936467, 0.49347273,\n",
      "       0.42105514, 0.40149925, 0.37613931, 0.29093058, 0.25589352,\n",
      "       0.20640788, 0.1731747 , 0.16310503, 0.09965687, 0.02268971]), 'kde_sel': array([ True, False, False,  True, False, False, False, False,  True,\n",
      "       False,  True,  True,  True, False, False, False, False,  True,\n",
      "        True,  True, False, False, False,  True, False, False,  True,\n",
      "        True,  True,  True, False, False,  True, False,  True,  True,\n",
      "       False, False,  True, False, False,  True,  True, False, False,\n",
      "       False, False, False,  True,  True,  True, False, False,  True,\n",
      "        True,  True,  True,  True,  True,  True, False, False, False,\n",
      "        True, False,  True,  True, False,  True])}\n"
     ]
    },
    {
     "data": {
      "image/png": "[encoded data removed]",
      "text/plain": [
       "<Figure size 576x576 with 1 Axes>"
      ]
     },
     "metadata": {
      "needs_background": "light"
     },
     "output_type": "display_data"
    }
   ],
   "source": [
    "import matplotlib.pyplot as plt\n",
    "import pickle\n",
    "\n",
    "f, ax = plt.subplots(1,1, figsize=(8,8))\n",
    "\n",
    "with open(name,'rb') as fid:\n",
    "    \n",
    "    ax = pickle.load(fid)\n",
    "    \n",
    "    \n",
    "    \n",
    "print(ax)\n",
    "\n",
    "plt.show()\n",
    "fid.close()"
   ]
  },
  {
   "cell_type": "code",
   "execution_count": null,
   "id": "4a7811f8",
   "metadata": {},
   "outputs": [],
   "source": []
  }
 ],
 "metadata": {
  "kernelspec": {
   "display_name": "Python 3",
   "language": "python",
   "name": "python3"
  },
  "language_info": {
   "codemirror_mode": {
    "name": "ipython",
    "version": 3
   },
   "file_extension": ".py",
   "mimetype": "text/x-python",
   "name": "python",
   "nbconvert_exporter": "python",
   "pygments_lexer": "ipython3",
   "version": "3.7.4"
  }
 },
 "nbformat": 4,
 "nbformat_minor": 5
}
