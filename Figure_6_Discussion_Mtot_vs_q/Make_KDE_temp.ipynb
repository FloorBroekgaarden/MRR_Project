{
 "cells": [
  {
   "cell_type": "code",
   "execution_count": 3,
   "id": "ee52fbf3",
   "metadata": {},
   "outputs": [
    {
     "data": {
      "text/html": [
       "<style>.container { width:100% !important; }</style>"
      ],
      "text/plain": [
       "<IPython.core.display.HTML object>"
      ]
     },
     "metadata": {},
     "output_type": "display_data"
    }
   ],
   "source": [
    "\n",
    "import sys\n",
    "sys.path.append('../Scripts')\n",
    "from PostProcessingScripts import * \n",
    "\n",
    "\n",
    "from IPython.core.display import display, HTML\n",
    "display(HTML(\"<style>.container { width:100% !important; }</style>\"))\n",
    "\n",
    "\n",
    "import pandas as pd\n",
    "import seaborn as sns"
   ]
  },
  {
   "cell_type": "code",
   "execution_count": 38,
   "id": "d8800da3",
   "metadata": {},
   "outputs": [
    {
     "name": "stdout",
     "output_type": "stream",
     "text": [
      "              M1        M2   chi_eff     spin1     spin2\n",
      "1      11.779802  8.520332  0.095469  0.072244  0.127577\n",
      "2      12.392788  8.401231  0.208173  0.253623  0.141130\n",
      "3      13.185028  8.106266  0.149889  0.237902  0.006733\n",
      "4      20.812314  5.305460  0.273271  0.433300 -0.354493\n",
      "5      12.769460  8.286209  0.200304 -0.011013  0.525954\n",
      "...          ...       ...       ...       ...       ...\n",
      "52248  10.745850  9.110307  0.085115  0.452420 -0.348130\n",
      "52249  11.773121  8.665839  0.051081  0.004075  0.114942\n",
      "52250  12.564929  8.304429  0.139094  0.500378 -0.407542\n",
      "52251  11.506100  9.362819  0.034493  0.239881 -0.217911\n",
      "52252  27.990871  4.542959  0.541669  0.490701  0.855706\n",
      "\n",
      "[52252 rows x 5 columns]\n",
      "1    11.779802\n",
      "2    12.392788\n",
      "3    13.185028\n",
      "4    20.812314\n",
      "5    12.769460\n",
      "Name: M1, dtype: float64\n"
     ]
    }
   ],
   "source": [
    "GW_name='GW151226'\n",
    "dfCSVname= '/Users/floorbroekgaarden/Projects/GitHub/MRR_Project/dataFiles/GWTC_posterior_samples/' \n",
    "dfCSVname_ = dfCSVname + 'posteriorSamples_' + GW_name  + '.csv' \n",
    "\n",
    "\n",
    "df = pd.read_csv(dfCSVname_, index_col=0, skiprows=[1])\n",
    "print(df)\n",
    "print(df['M1'][0:5])\n",
    "\n",
    "\n",
    "mass_ratio = df['M2']/df['M1']\n",
    "total_mass = df['M2'] + df['M1']"
   ]
  },
  {
   "cell_type": "code",
   "execution_count": 46,
   "id": "ec8cdf41",
   "metadata": {},
   "outputs": [
    {
     "data": {
      "image/png": "[encoded data removed]",
      "text/plain": [
       "<Figure size 432x288 with 1 Axes>"
      ]
     },
     "metadata": {
      "needs_background": "light"
     },
     "output_type": "display_data"
    }
   ],
   "source": [
    "plt.scatter(total_mass, mass_ratio)\n",
    "\n",
    "plt.show()"
   ]
  },
  {
   "cell_type": "code",
   "execution_count": 47,
   "id": "cb6b1f1a",
   "metadata": {},
   "outputs": [
    {
     "data": {
      "image/png": "[encoded data removed]",
      "text/plain": [
       "<Figure size 432x288 with 1 Axes>"
      ]
     },
     "metadata": {
      "needs_background": "light"
     },
     "output_type": "display_data"
    }
   ],
   "source": [
    "sns.kdeplot(x=total_mass, y=mass_ratio, levels=[0.1])\n",
    "plt.show()"
   ]
  },
  {
   "cell_type": "code",
   "execution_count": null,
   "id": "2f55c819",
   "metadata": {},
   "outputs": [],
   "source": []
  }
 ],
 "metadata": {
  "kernelspec": {
   "display_name": "Python 3",
   "language": "python",
   "name": "python3"
  },
  "language_info": {
   "codemirror_mode": {
    "name": "ipython",
    "version": 3
   },
   "file_extension": ".py",
   "mimetype": "text/x-python",
   "name": "python",
   "nbconvert_exporter": "python",
   "pygments_lexer": "ipython3",
   "version": "3.7.4"
  }
 },
 "nbformat": 4,
 "nbformat_minor": 5
}
