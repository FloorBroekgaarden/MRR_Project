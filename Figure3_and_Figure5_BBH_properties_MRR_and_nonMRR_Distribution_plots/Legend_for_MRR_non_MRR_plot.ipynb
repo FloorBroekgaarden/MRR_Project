{
 "cells": [
  {
   "cell_type": "code",
   "execution_count": 1,
   "id": "c9d9a809",
   "metadata": {},
   "outputs": [
    {
     "data": {
      "text/html": [
       "<style>.container { width:100% !important; }</style>"
      ],
      "text/plain": [
       "<IPython.core.display.HTML object>"
      ]
     },
     "metadata": {},
     "output_type": "display_data"
    }
   ],
   "source": [
    "#Needed in general\n",
    "\n",
    "\n",
    "import numpy as np\n",
    "import matplotlib.pyplot as plt\n",
    "import sys\n",
    "import h5py as h5\n",
    "import gc\n",
    "\n",
    "#Quick fudge to make import from ../Scripts work\n",
    "sys.path.append('../Scripts')\n",
    "\n",
    "#Custom imports\n",
    "# import ClassCOMPAS     as CC ###\n",
    "# import ClassFormationChannels as FC a\n",
    "\n",
    "\n",
    "# import script that has formation channel classification functions:\n",
    "from PostProcessingScripts import * \n",
    "# from ClassFormationChannels_5mainchannels import * \n",
    "\n",
    "\n",
    "\n",
    "from astropy import units as u\n",
    "from astropy import constants as const\n",
    "\n",
    "from IPython.core.display import display, HTML\n",
    "display(HTML(\"<style>.container { width:100% !important; }</style>\"))\n",
    "# print(fs)\n",
    "\n",
    "import astropy\n",
    "import seaborn as sns\n",
    "# from seaborn_utility import cmap_from_colour\n",
    "\n",
    "from astropy import units as u\n",
    "from astropy import constants as c\n",
    "\n",
    "def adjust_lightness(color, amount=0.5):\n",
    "    import matplotlib.colors as mc\n",
    "    import colorsys\n",
    "    try:\n",
    "        c = mc.cnames[color]\n",
    "    except:\n",
    "        c = color\n",
    "    c = colorsys.rgb_to_hls(*mc.to_rgb(c))\n",
    "    return colorsys.hls_to_rgb(c[0], max(0, min(1, amount * c[1])), c[2])\n",
    "\n"
   ]
  },
  {
   "cell_type": "code",
   "execution_count": 2,
   "id": "fe02c65f",
   "metadata": {},
   "outputs": [],
   "source": [
    "colors = ['#1f77b4', '#ff7f0e']\n",
    "colors_lighter = [adjust_lightness(color=colors[0], amount=2.2),adjust_lightness(color=colors[1], amount=1.7)]"
   ]
  },
  {
   "cell_type": "code",
   "execution_count": 30,
   "id": "517edeee",
   "metadata": {},
   "outputs": [
    {
     "data": {
      "image/png": "[encoded data removed]",
      "text/plain": [
       "<Figure size 360x144 with 1 Axes>"
      ]
     },
     "metadata": {
      "needs_background": "light"
     },
     "output_type": "display_data"
    }
   ],
   "source": [
    "xx = np.linspace(0,1,100)\n",
    "yy = np.linspace(0,1,100)\n",
    "    \n",
    "fig, axe = plt.subplots(1,1, figsize=(5,2))#,\\\n",
    "lw=12\n",
    "fs = 26\n",
    "    \n",
    "axe.plot(xx, yy,    color=colors[1], lw=lw, zorder=16, alpha=1, label=r'\\textbf{MRR}')#, ls=ls_)\n",
    "axe.plot(xx, yy, color=colors[0], lw=lw, zorder=15, alpha=1, label=r'\\textbf{non-MRR}')#, ls=ls_)\n",
    "\n",
    "axe.set_xlim(2,4)\n",
    "axe.set_ylim(2,4)\n",
    "\n",
    "axe.axis('off')\n",
    "\n",
    "axe.legend(fontsize=fs, frameon=False)\n",
    "plt.savefig('./MRR_legend.pdf', transparent=True, bbox_inches=\"tight\",  format='pdf')\n",
    "plt.savefig('./MRR_legend.png', transparent=True, bbox_inches=\"tight\", dpi=600, format='png')\n",
    "plt.show()  \n",
    "\n",
    "\n"
   ]
  },
  {
   "cell_type": "code",
   "execution_count": 31,
   "id": "258735d6",
   "metadata": {},
   "outputs": [
    {
     "data": {
      "image/png": "[encoded data removed]",
      "text/plain": [
       "<Figure size 360x144 with 1 Axes>"
      ]
     },
     "metadata": {
      "needs_background": "light"
     },
     "output_type": "display_data"
    }
   ],
   "source": [
    "xx = np.linspace(0,1,100)\n",
    "yy = np.linspace(0,1,100)\n",
    "    \n",
    "fig, axe = plt.subplots(1,1, figsize=(5,2))#,\\\n",
    "lw=12\n",
    "fs = 26\n",
    "    \n",
    "axe.plot(xx, yy,    color=colors_lighter[1], lw=lw, zorder=16, alpha=1, label=r'\\textbf{MRR}')#, ls=ls_)\n",
    "axe.plot(xx, yy, color=colors_lighter[0], lw=lw, zorder=15, alpha=1, label=r'\\textbf{non-MRR}')#, ls=ls_)\n",
    "\n",
    "axe.set_xlim(2,4)\n",
    "axe.set_ylim(2,4)\n",
    "\n",
    "axe.axis('off')\n",
    "\n",
    "axe.legend(fontsize=fs, frameon=False)\n",
    "plt.savefig('./MRR_lighter_legend.pdf', transparent=True, bbox_inches=\"tight\",  format='pdf')\n",
    "plt.savefig('./MRR_lighter_legend.png', transparent=True, bbox_inches=\"tight\", dpi=600, format='png')\n",
    "plt.show()  \n"
   ]
  },
  {
   "cell_type": "code",
   "execution_count": null,
   "id": "380871b4",
   "metadata": {},
   "outputs": [],
   "source": []
  }
 ],
 "metadata": {
  "kernelspec": {
   "display_name": "Python 3",
   "language": "python",
   "name": "python3"
  },
  "language_info": {
   "codemirror_mode": {
    "name": "ipython",
    "version": 3
   },
   "file_extension": ".py",
   "mimetype": "text/x-python",
   "name": "python",
   "nbconvert_exporter": "python",
   "pygments_lexer": "ipython3",
   "version": "3.7.4"
  }
 },
 "nbformat": 4,
 "nbformat_minor": 5
}
